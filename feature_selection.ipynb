{
 "cells": [
  {
   "metadata": {},
   "cell_type": "markdown",
   "source": "Bu kodda veri tabanımdaki verileri speakers ve sentences değişkenlerine alıyorum",
   "id": "2c55ac8b36143999"
  },
  {
   "cell_type": "code",
   "id": "initial_id",
   "metadata": {
    "collapsed": true,
    "ExecuteTime": {
     "end_time": "2025-01-28T13:24:37.817195Z",
     "start_time": "2025-01-28T13:24:37.631888Z"
    }
   },
   "source": [
    "import sqlite3\n",
    "import pickle\n",
    "\n",
    "class Speaker:\n",
    "    _id_counter = 1  # Static counter for Speaker IDs\n",
    "\n",
    "    def __init__(self, client_id):\n",
    "        self.id = Speaker._id_counter  # Assign auto-generated ID\n",
    "        Speaker._id_counter += 1  # Increment counter for next speaker\n",
    "        self.client_id = client_id\n",
    "        self.sentences = []\n",
    "\n",
    "    def add_sentence(self, sentence):\n",
    "        self.sentences.append(sentence)\n",
    "\n",
    "class Sentence:\n",
    "    _id_counter = 1  # Static counter for Sentence IDs\n",
    "\n",
    "    def __init__(self, speaker, path, mfcc1, mfcc2, mfcc3, mfcc4, mfcc5, mfcc6,\n",
    "                 mfcc7, mfcc8, mfcc9, mfcc10, mfcc11, mfcc12, mfcc13,\n",
    "                 chroma1, chroma2, chroma3, chroma4, chroma5, chroma6,\n",
    "                 chroma7, chroma8, chroma9, chroma10, chroma11, chroma12,\n",
    "                 spectral_centroid, spectral_rolloff, zero_crossing_rate,\n",
    "                 spectral_bandwidth, rms_energy, tempo, sentence_id, sentence):\n",
    "        self.id = Sentence._id_counter  # Assign auto-generated ID\n",
    "        Sentence._id_counter += 1  # Increment counter for next sentence\n",
    "        self.speaker = speaker\n",
    "        self.path = path\n",
    "        self.mfcc1 = mfcc1\n",
    "        self.mfcc2 = mfcc2\n",
    "        self.mfcc3 = mfcc3\n",
    "        self.mfcc4 = mfcc4\n",
    "        self.mfcc5 = mfcc5\n",
    "        self.mfcc6 = mfcc6\n",
    "        self.mfcc7 = mfcc7\n",
    "        self.mfcc8 = mfcc8\n",
    "        self.mfcc9 = mfcc9\n",
    "        self.mfcc10 = mfcc10\n",
    "        self.mfcc11 = mfcc11\n",
    "        self.mfcc12 = mfcc12\n",
    "        self.mfcc13 = mfcc13\n",
    "        self.chroma1 = chroma1\n",
    "        self.chroma2 = chroma2\n",
    "        self.chroma3 = chroma3\n",
    "        self.chroma4 = chroma4\n",
    "        self.chroma5 = chroma5\n",
    "        self.chroma6 = chroma6\n",
    "        self.chroma7 = chroma7\n",
    "        self.chroma8 = chroma8\n",
    "        self.chroma9 = chroma9\n",
    "        self.chroma10 = chroma10\n",
    "        self.chroma11 = chroma11\n",
    "        self.chroma12 = chroma12\n",
    "        self.spectral_centroid = spectral_centroid\n",
    "        self.spectral_rolloff = spectral_rolloff\n",
    "        self.zero_crossing_rate = zero_crossing_rate\n",
    "        self.spectral_bandwidth = spectral_bandwidth\n",
    "        self.rms_energy = rms_energy\n",
    "        self.tempo = tempo\n",
    "        self.sentence_id = sentence_id\n",
    "        self.sentence = sentence\n",
    "\n",
    "conn = sqlite3.connect('db.sqlite3')\n",
    "cur = conn.cursor()\n",
    "\n",
    "# Create a dictionary to store Speaker objects, using speaker's id as the key\n",
    "speakers = {}\n",
    "sentences = []\n",
    "client_ids_id_conn_dict = {}\n",
    "\n",
    "# Fetch data from the database\n",
    "cur.execute(\"SELECT * FROM sentence_data\")\n",
    "\n",
    "for row in cur.fetchall():\n",
    "    client_id = row[0]\n",
    "    if client_id not in client_ids_id_conn_dict.keys():\n",
    "        speaker = Speaker(client_id)\n",
    "        client_ids_id_conn_dict[client_id] = speaker.id\n",
    "        speakers[speaker.id] = speaker\n",
    "    else:\n",
    "        speaker_id = client_ids_id_conn_dict[client_id]\n",
    "        speaker = speakers[speaker_id]\n",
    "\n",
    "    sentence = Sentence(\n",
    "    speaker=speaker,\n",
    "    path=row[1],\n",
    "    mfcc1=pickle.loads(row[2]),\n",
    "    mfcc2=pickle.loads(row[3]),\n",
    "    mfcc3=pickle.loads(row[4]),\n",
    "    mfcc4=pickle.loads(row[5]),\n",
    "    mfcc5=pickle.loads(row[6]),\n",
    "    mfcc6=pickle.loads(row[7]),\n",
    "    mfcc7=pickle.loads(row[8]),\n",
    "    mfcc8=pickle.loads(row[9]),\n",
    "    mfcc9=pickle.loads(row[10]),\n",
    "    mfcc10=pickle.loads(row[11]),\n",
    "    mfcc11=pickle.loads(row[12]),\n",
    "    mfcc12=pickle.loads(row[13]),\n",
    "    mfcc13=pickle.loads(row[14]),\n",
    "    chroma1=pickle.loads(row[15]),\n",
    "    chroma2=pickle.loads(row[16]),\n",
    "    chroma3=pickle.loads(row[17]),\n",
    "    chroma4=pickle.loads(row[18]),\n",
    "    chroma5=pickle.loads(row[19]),\n",
    "    chroma6=pickle.loads(row[20]),\n",
    "    chroma7=pickle.loads(row[21]),\n",
    "    chroma8=pickle.loads(row[22]),\n",
    "    chroma9=pickle.loads(row[23]),\n",
    "    chroma10=pickle.loads(row[24]),\n",
    "    chroma11=pickle.loads(row[25]),\n",
    "    chroma12=pickle.loads(row[26]),\n",
    "    spectral_centroid=pickle.loads(row[27]),\n",
    "    spectral_rolloff=pickle.loads(row[28]),\n",
    "    zero_crossing_rate=pickle.loads(row[29]),\n",
    "    spectral_bandwidth=pickle.loads(row[30]),\n",
    "    rms_energy=pickle.loads(row[31]),\n",
    "    tempo=row[32],\n",
    "    sentence_id=row[33],\n",
    "    sentence=row[34]\n",
    ")\n",
    "\n",
    "    sentences.append(sentence)\n",
    "    speaker.add_sentence(sentence)\n",
    "\n",
    "conn.close()\n",
    "del cur\n",
    "del conn\n",
    "print(f\"konuşmacı sayısı: {len(speakers)}\")\n",
    "print(f\"konuşma sayısı: {len(sentences)}\")\n"
   ],
   "outputs": [
    {
     "name": "stdout",
     "output_type": "stream",
     "text": [
      "konuşmacı sayısı: 24\n",
      "konuşma sayısı: 611\n"
     ]
    }
   ],
   "execution_count": 44
  },
  {
   "metadata": {},
   "cell_type": "markdown",
   "source": "Featureları sözlük ve liste olarak topluyorum",
   "id": "296a32910ce183d9"
  },
  {
   "metadata": {
    "ExecuteTime": {
     "end_time": "2025-01-28T13:24:38.012997Z",
     "start_time": "2025-01-28T13:24:37.869047Z"
    }
   },
   "cell_type": "code",
   "source": [
    "import numpy as np\n",
    "\n",
    "features = []\n",
    "for sentence in sentences:\n",
    "    feature = [\n",
    "        np.mean(sentence.mfcc1),\n",
    "        np.mean(sentence.mfcc2),\n",
    "        np.mean(sentence.mfcc3),\n",
    "        np.mean(sentence.mfcc4),\n",
    "        np.mean(sentence.mfcc5),\n",
    "        np.mean(sentence.mfcc6),\n",
    "        np.mean(sentence.mfcc7),\n",
    "        np.mean(sentence.mfcc8),\n",
    "        np.mean(sentence.mfcc9),\n",
    "        np.mean(sentence.mfcc10),\n",
    "        np.mean(sentence.mfcc11),\n",
    "        np.mean(sentence.mfcc12),\n",
    "        np.mean(sentence.mfcc13),\n",
    "        np.mean(sentence.chroma1),\n",
    "        np.mean(sentence.chroma2),\n",
    "        np.mean(sentence.chroma3),\n",
    "        np.mean(sentence.chroma4),\n",
    "        np.mean(sentence.chroma5),\n",
    "        np.mean(sentence.chroma6),\n",
    "        np.mean(sentence.chroma7),\n",
    "        np.mean(sentence.chroma8),\n",
    "        np.mean(sentence.chroma9),\n",
    "        np.mean(sentence.chroma10),\n",
    "        np.mean(sentence.chroma11),\n",
    "        np.mean(sentence.chroma12),\n",
    "        np.mean(sentence.spectral_centroid),\n",
    "        np.mean(sentence.spectral_rolloff),\n",
    "        np.mean(sentence.zero_crossing_rate),\n",
    "        np.mean(sentence.spectral_bandwidth),\n",
    "        np.mean(sentence.rms_energy)\n",
    "    ]\n",
    "\n",
    "    features.append(feature)\n",
    "\n",
    "columns = [\n",
    "    'mfcc1', 'mfcc2', 'mfcc3', 'mfcc4', 'mfcc5', 'mfcc6', 'mfcc7', 'mfcc8', 'mfcc9', 'mfcc10',\n",
    "    'mfcc11', 'mfcc12', 'mfcc13', 'chroma1', 'chroma2', 'chroma3', 'chroma4', 'chroma5',\n",
    "    'chroma6', 'chroma7', 'chroma8', 'chroma9', 'chroma10', 'chroma11', 'chroma12',\n",
    "    'spectral_centroid', 'spectral_rolloff', 'zero_crossing_rate', 'spectral_bandwidth',\n",
    "    'rms_energy'\n",
    "]"
   ],
   "id": "13d3a3af855a2297",
   "outputs": [],
   "execution_count": 45
  },
  {
   "metadata": {},
   "cell_type": "markdown",
   "source": [
    "# Feature selections:\n",
    "Global değişkenlerin tanımlanması:\n",
    "Burada özellikler(features) X olarak, etiketleri(labels) ise y olarak tanımlanmıştır."
   ],
   "id": "4e3e2d5ba2d0330"
  },
  {
   "metadata": {
    "ExecuteTime": {
     "end_time": "2025-01-28T13:24:38.021478Z",
     "start_time": "2025-01-28T13:24:38.016411Z"
    }
   },
   "cell_type": "code",
   "source": [
    "X = np.array(features)\n",
    "y = [sentence.speaker.id for sentence in sentences]"
   ],
   "id": "e101ce392d9e6cb2",
   "outputs": [],
   "execution_count": 46
  },
  {
   "metadata": {},
   "cell_type": "markdown",
   "source": [
    "1. Corelation Analysis:\n",
    "\n",
    "Aşşağıdaki kodda pandas yardımı ile bir dataframe(matris) oluşturuyoruz. Bu matris şöyle ifade edilebilir: (features)x(rows) yani (30x611).\n",
    "Sonrasında ise bu dataframe'i corr() fonksiyonu ile korelasyon matrisine dönüştürüyoruz: (features)x(features) yani (30x30). Bu matris bir değer düştüğünde veya yükseldiğinde diğer değerlerin bu durum karşısında tepkisini gösterir. Bu şekilde özellikler arasındaki ilişkileri görebiliriz.\n"
   ],
   "id": "a5f0409d993c57a6"
  },
  {
   "metadata": {
    "ExecuteTime": {
     "end_time": "2025-01-28T13:24:38.085757Z",
     "start_time": "2025-01-28T13:24:38.064082Z"
    }
   },
   "cell_type": "code",
   "source": [
    "import pandas as pd\n",
    "df = pd.DataFrame(features, columns=columns)\n",
    "correlation_matrix = df.corr()\n",
    "print(correlation_matrix)"
   ],
   "id": "b949163b36c6bc85",
   "outputs": [
    {
     "name": "stdout",
     "output_type": "stream",
     "text": [
      "                       mfcc1     mfcc2     mfcc3     mfcc4     mfcc5  \\\n",
      "mfcc1               1.000000 -0.434625 -0.766645  0.486680 -0.549285   \n",
      "mfcc2              -0.434625  1.000000  0.629151 -0.576528  0.689534   \n",
      "mfcc3              -0.766645  0.629151  1.000000 -0.477252  0.494654   \n",
      "mfcc4               0.486680 -0.576528 -0.477252  1.000000 -0.398235   \n",
      "mfcc5              -0.549285  0.689534  0.494654 -0.398235  1.000000   \n",
      "mfcc6               0.050864 -0.079677  0.140665  0.430622 -0.112753   \n",
      "mfcc7              -0.271060  0.330850  0.154253 -0.574971  0.259577   \n",
      "mfcc8              -0.140269 -0.151226  0.162971  0.354364 -0.190497   \n",
      "mfcc9              -0.503007  0.509234  0.462697 -0.367111  0.702938   \n",
      "mfcc10              0.143324 -0.481319 -0.249127  0.611120 -0.347660   \n",
      "mfcc11             -0.207113  0.105046  0.033486 -0.446624  0.127212   \n",
      "mfcc12             -0.075886 -0.189428 -0.006756  0.210915 -0.215003   \n",
      "mfcc13              0.259641 -0.135994 -0.482878  0.208773  0.066721   \n",
      "chroma1            -0.538494  0.311222  0.369322 -0.214477  0.411562   \n",
      "chroma2            -0.609217  0.300158  0.486564 -0.139750  0.369546   \n",
      "chroma3            -0.376093 -0.078295  0.228412  0.135607  0.014987   \n",
      "chroma4             0.090877 -0.476445 -0.300848  0.357178 -0.333522   \n",
      "chroma5             0.187670 -0.503736 -0.421153  0.311925 -0.351355   \n",
      "chroma6            -0.008732 -0.325105 -0.291976  0.145167 -0.158123   \n",
      "chroma7            -0.065792 -0.206563 -0.222599  0.126240 -0.024806   \n",
      "chroma8             0.037236 -0.251722 -0.258547  0.195917 -0.105678   \n",
      "chroma9            -0.055355 -0.116197 -0.159616  0.005159 -0.000711   \n",
      "chroma10           -0.009121 -0.130356 -0.200704  0.007310 -0.030564   \n",
      "chroma11           -0.119068 -0.031450 -0.092458 -0.015893  0.053770   \n",
      "chroma12           -0.435532  0.264081  0.246517 -0.220120  0.367337   \n",
      "spectral_centroid   0.492036 -0.868698 -0.658876  0.646456 -0.745656   \n",
      "spectral_rolloff    0.433057 -0.850635 -0.615319  0.609128 -0.731876   \n",
      "zero_crossing_rate  0.548957 -0.848013 -0.673677  0.685554 -0.748478   \n",
      "spectral_bandwidth -0.001521 -0.562475 -0.099780  0.408884 -0.497391   \n",
      "rms_energy          0.604777 -0.020490 -0.285692 -0.012758 -0.137301   \n",
      "\n",
      "                       mfcc6     mfcc7     mfcc8     mfcc9    mfcc10  ...  \\\n",
      "mfcc1               0.050864 -0.271060 -0.140269 -0.503007  0.143324  ...   \n",
      "mfcc2              -0.079677  0.330850 -0.151226  0.509234 -0.481319  ...   \n",
      "mfcc3               0.140665  0.154253  0.162971  0.462697 -0.249127  ...   \n",
      "mfcc4               0.430622 -0.574971  0.354364 -0.367111  0.611120  ...   \n",
      "mfcc5              -0.112753  0.259577 -0.190497  0.702938 -0.347660  ...   \n",
      "mfcc6               1.000000 -0.518316  0.638859 -0.361485  0.523541  ...   \n",
      "mfcc7              -0.518316  1.000000 -0.517041  0.247233 -0.504130  ...   \n",
      "mfcc8               0.638859 -0.517041  1.000000 -0.351646  0.552927  ...   \n",
      "mfcc9              -0.361485  0.247233 -0.351646  1.000000 -0.433252  ...   \n",
      "mfcc10              0.523541 -0.504130  0.552927 -0.433252  1.000000  ...   \n",
      "mfcc11             -0.201168  0.404873 -0.177362 -0.004000 -0.376864  ...   \n",
      "mfcc12              0.114414 -0.110541  0.330910 -0.027139  0.231411  ...   \n",
      "mfcc13             -0.076262 -0.085851 -0.017194  0.022712  0.258723  ...   \n",
      "chroma1             0.026295  0.082522  0.238830  0.363293 -0.018789  ...   \n",
      "chroma2             0.123226 -0.047194  0.421291  0.298170  0.135861  ...   \n",
      "chroma3             0.242930 -0.296235  0.616546 -0.006701  0.387895  ...   \n",
      "chroma4             0.185587 -0.450899  0.511907 -0.259625  0.488398  ...   \n",
      "chroma5             0.050596 -0.397706  0.325977 -0.203780  0.409387  ...   \n",
      "chroma6            -0.092959 -0.174244  0.175013 -0.026988  0.253881  ...   \n",
      "chroma7            -0.079782 -0.045107  0.084437  0.023504  0.181495  ...   \n",
      "chroma8             0.005219 -0.047857  0.119876 -0.041722  0.167334  ...   \n",
      "chroma9            -0.014429  0.079511  0.060924 -0.014314  0.006349  ...   \n",
      "chroma10            0.074369  0.007584  0.138304 -0.162996  0.068467  ...   \n",
      "chroma11            0.121338 -0.035894  0.222094 -0.065460  0.092326  ...   \n",
      "chroma12            0.010348  0.125970  0.151230  0.301171 -0.067017  ...   \n",
      "spectral_centroid   0.250730 -0.507736  0.375388 -0.653835  0.627499  ...   \n",
      "spectral_rolloff    0.263456 -0.485677  0.406631 -0.654063  0.622602  ...   \n",
      "zero_crossing_rate  0.293515 -0.552353  0.402903 -0.656625  0.630351  ...   \n",
      "spectral_bandwidth  0.455990 -0.524096  0.645855 -0.492474  0.625673  ...   \n",
      "rms_energy         -0.312718  0.146893 -0.542669  0.087940 -0.459630  ...   \n",
      "\n",
      "                     chroma8   chroma9  chroma10  chroma11  chroma12  \\\n",
      "mfcc1               0.037236 -0.055355 -0.009121 -0.119068 -0.435532   \n",
      "mfcc2              -0.251722 -0.116197 -0.130356 -0.031450  0.264081   \n",
      "mfcc3              -0.258547 -0.159616 -0.200704 -0.092458  0.246517   \n",
      "mfcc4               0.195917  0.005159  0.007310 -0.015893 -0.220120   \n",
      "mfcc5              -0.105678 -0.000711 -0.030564  0.053770  0.367337   \n",
      "mfcc6               0.005219 -0.014429  0.074369  0.121338  0.010348   \n",
      "mfcc7              -0.047857  0.079511  0.007584 -0.035894  0.125970   \n",
      "mfcc8               0.119876  0.060924  0.138304  0.222094  0.151230   \n",
      "mfcc9              -0.041722 -0.014314 -0.162996 -0.065460  0.301171   \n",
      "mfcc10              0.167334  0.006349  0.068467  0.092326 -0.067017   \n",
      "mfcc11              0.275663  0.471346  0.480599  0.388463  0.302697   \n",
      "mfcc12              0.005676 -0.059791 -0.068577 -0.005686  0.009161   \n",
      "mfcc13              0.167623  0.149580  0.215637  0.281885  0.194230   \n",
      "chroma1             0.092597  0.212956  0.241658  0.498561  0.872888   \n",
      "chroma2            -0.019402  0.016865 -0.003725  0.172494  0.511165   \n",
      "chroma3             0.127522  0.097892  0.079292  0.143045  0.248977   \n",
      "chroma4             0.324581  0.267722  0.274947  0.259089  0.099046   \n",
      "chroma5             0.414766  0.329222  0.296945  0.276193  0.071338   \n",
      "chroma6             0.588755  0.440419  0.325441  0.289615  0.147220   \n",
      "chroma7             0.805635  0.540461  0.374877  0.304642  0.165323   \n",
      "chroma8             1.000000  0.817913  0.566293  0.413625  0.183935   \n",
      "chroma9             0.817913  1.000000  0.835440  0.601128  0.339570   \n",
      "chroma10            0.566293  0.835440  1.000000  0.821442  0.437083   \n",
      "chroma11            0.413625  0.601128  0.821442  1.000000  0.751626   \n",
      "chroma12            0.183935  0.339570  0.437083  0.751626  1.000000   \n",
      "spectral_centroid   0.379569  0.207075  0.217902  0.138624 -0.194798   \n",
      "spectral_rolloff    0.412546  0.248581  0.253581  0.174880 -0.155686   \n",
      "zero_crossing_rate  0.343993  0.187848  0.224100  0.149529 -0.196694   \n",
      "spectral_bandwidth  0.368397  0.231597  0.203761  0.178263 -0.000114   \n",
      "rms_energy         -0.112742 -0.086213 -0.138812 -0.241446 -0.320414   \n",
      "\n",
      "                    spectral_centroid  spectral_rolloff  zero_crossing_rate  \\\n",
      "mfcc1                        0.492036          0.433057            0.548957   \n",
      "mfcc2                       -0.868698         -0.850635           -0.848013   \n",
      "mfcc3                       -0.658876         -0.615319           -0.673677   \n",
      "mfcc4                        0.646456          0.609128            0.685554   \n",
      "mfcc5                       -0.745656         -0.731876           -0.748478   \n",
      "mfcc6                        0.250730          0.263456            0.293515   \n",
      "mfcc7                       -0.507736         -0.485677           -0.552353   \n",
      "mfcc8                        0.375388          0.406631            0.402903   \n",
      "mfcc9                       -0.653835         -0.654063           -0.656625   \n",
      "mfcc10                       0.627499          0.622602            0.630351   \n",
      "mfcc11                      -0.140015         -0.090518           -0.192823   \n",
      "mfcc12                       0.180069          0.192020            0.200660   \n",
      "mfcc13                       0.157465          0.126610            0.203902   \n",
      "chroma1                     -0.228918         -0.189609           -0.240811   \n",
      "chroma2                     -0.175811         -0.140792           -0.197433   \n",
      "chroma3                      0.232165          0.266281            0.219313   \n",
      "chroma4                      0.633109          0.652329            0.631479   \n",
      "chroma5                      0.644703          0.656361            0.631212   \n",
      "chroma6                      0.449340          0.477182            0.406728   \n",
      "chroma7                      0.329259          0.361255            0.279685   \n",
      "chroma8                      0.379569          0.412546            0.343993   \n",
      "chroma9                      0.207075          0.248581            0.187848   \n",
      "chroma10                     0.217902          0.253581            0.224100   \n",
      "chroma11                     0.138624          0.174880            0.149529   \n",
      "chroma12                    -0.194798         -0.155686           -0.196694   \n",
      "spectral_centroid            1.000000          0.989728            0.977760   \n",
      "spectral_rolloff             0.989728          1.000000            0.950921   \n",
      "zero_crossing_rate           0.977760          0.950921            1.000000   \n",
      "spectral_bandwidth           0.760335          0.814007            0.684413   \n",
      "rms_energy                  -0.110764         -0.154773           -0.075640   \n",
      "\n",
      "                    spectral_bandwidth  rms_energy  \n",
      "mfcc1                        -0.001521    0.604777  \n",
      "mfcc2                        -0.562475   -0.020490  \n",
      "mfcc3                        -0.099780   -0.285692  \n",
      "mfcc4                         0.408884   -0.012758  \n",
      "mfcc5                        -0.497391   -0.137301  \n",
      "mfcc6                         0.455990   -0.312718  \n",
      "mfcc7                        -0.524096    0.146893  \n",
      "mfcc8                         0.645855   -0.542669  \n",
      "mfcc9                        -0.492474    0.087940  \n",
      "mfcc10                        0.625673   -0.459630  \n",
      "mfcc11                       -0.064952    0.059158  \n",
      "mfcc12                        0.200946   -0.208424  \n",
      "mfcc13                       -0.121735   -0.039804  \n",
      "chroma1                       0.048995   -0.393182  \n",
      "chroma2                       0.200179   -0.512040  \n",
      "chroma3                       0.527847   -0.508686  \n",
      "chroma4                       0.642238   -0.261713  \n",
      "chroma5                       0.566280   -0.157403  \n",
      "chroma6                       0.449732   -0.229848  \n",
      "chroma7                       0.348059   -0.228867  \n",
      "chroma8                       0.368397   -0.112742  \n",
      "chroma9                       0.231597   -0.086213  \n",
      "chroma10                      0.203761   -0.138812  \n",
      "chroma11                      0.178263   -0.241446  \n",
      "chroma12                     -0.000114   -0.320414  \n",
      "spectral_centroid             0.760335   -0.110764  \n",
      "spectral_rolloff              0.814007   -0.154773  \n",
      "zero_crossing_rate            0.684413   -0.075640  \n",
      "spectral_bandwidth            1.000000   -0.431934  \n",
      "rms_energy                   -0.431934    1.000000  \n",
      "\n",
      "[30 rows x 30 columns]\n"
     ]
    }
   ],
   "execution_count": 47
  },
  {
   "metadata": {},
   "cell_type": "markdown",
   "source": [
    "2. Random Forest Classifier:\n",
    "\n",
    "Random Forest bir denetimli öğrenme algoritmasıdır. Bu algoritma, birçok karar ağacını birleştirerek bir tahmin yapar. Bende bu kodda X(features) ve y(labels) değerlerini kullanan bir Random Forest sınıflandırıcısı oluşturuyorum. Daha sonra bu sınıflandırıcıyı eğitiyorum ve özelliklerin önem derecelerini alıyorum."
   ],
   "id": "cbd832dbd967f81e"
  },
  {
   "metadata": {
    "ExecuteTime": {
     "end_time": "2025-01-28T13:24:38.404479Z",
     "start_time": "2025-01-28T13:24:38.129187Z"
    }
   },
   "cell_type": "code",
   "source": [
    "from sklearn.ensemble import RandomForestClassifier\n",
    "rf = RandomForestClassifier()\n",
    "rf.fit(X, y)\n",
    "importance = rf.feature_importances_\n",
    "print(importance)"
   ],
   "id": "eff231f4fead01d1",
   "outputs": [
    {
     "name": "stdout",
     "output_type": "stream",
     "text": [
      "[0.04341879 0.02845176 0.08925077 0.0192421  0.05609366 0.02673972\n",
      " 0.06437782 0.05496676 0.06867489 0.03611569 0.01879605 0.01092397\n",
      " 0.04225007 0.01227085 0.01172953 0.01214391 0.01442915 0.00900851\n",
      " 0.00871025 0.00732684 0.0176363  0.01484222 0.01407039 0.00933964\n",
      " 0.01025186 0.07020692 0.07287547 0.06529172 0.0627641  0.02780027]\n"
     ]
    }
   ],
   "execution_count": 48
  },
  {
   "metadata": {},
   "cell_type": "markdown",
   "source": [
    "3. PCA (Principal Component Analysis):\n",
    "\n",
    "Component kavramını anlayamadığım için şuanlık pca kısmını askıya alıyorum.\n"
   ],
   "id": "da41f35ed1454881"
  },
  {
   "metadata": {
    "ExecuteTime": {
     "end_time": "2025-01-28T13:24:38.451483Z",
     "start_time": "2025-01-28T13:24:38.446265Z"
    }
   },
   "cell_type": "code",
   "source": [
    "from sklearn.decomposition import PCA\n",
    "pca = PCA(n_components=5)\n",
    "X_pca = pca.fit_transform(X)\n",
    "pca_components = pca.components_\n",
    "explained_variance_ratio = pca.explained_variance_ratio_\n",
    "pca_components_df = pd.DataFrame(pca.components_, columns=columns)\n",
    "print(explained_variance_ratio)"
   ],
   "id": "a3fcfaa840805b6f",
   "outputs": [
    {
     "name": "stdout",
     "output_type": "stream",
     "text": [
      "[9.80045392e-01 1.71543379e-02 2.25362843e-03 3.58727744e-04\n",
      " 4.98851338e-05]\n"
     ]
    }
   ],
   "execution_count": 49
  },
  {
   "metadata": {},
   "cell_type": "markdown",
   "source": [
    "4. F-Score Feature Selection\n",
    "\n",
    "Anova testidir. featureların etiketlerle ilişkisini ölçer."
   ],
   "id": "d7b1961c411027ca"
  },
  {
   "metadata": {
    "ExecuteTime": {
     "end_time": "2025-01-28T13:24:38.518187Z",
     "start_time": "2025-01-28T13:24:38.505923Z"
    }
   },
   "cell_type": "code",
   "source": [
    "from sklearn.feature_selection import f_classif\n",
    "f_scores, p_values = f_classif(X, y)\n",
    "print(f\"f-scores:{f_scores},\\n p-values:{p_values}\")"
   ],
   "id": "12517156c645bf8f",
   "outputs": [
    {
     "name": "stdout",
     "output_type": "stream",
     "text": [
      "f-scores:[ 85.4643743   99.2139721  306.65986551  59.13913836 176.48916329\n",
      "  39.16848254  95.72057534 120.43756606 147.43273996  91.66658769\n",
      "  25.98176606  18.44668503  46.60551521  22.30251406  34.11497927\n",
      "  33.39284375  43.6580368   39.62298353  22.27688701  17.62263596\n",
      "  24.4542093   19.61677019  15.20645535  12.72463144  18.48474843\n",
      " 273.35742913 215.38388493 357.48540395 145.53411713  59.04278596],\n",
      " p-values:[2.38497466e-170 4.34081137e-185 2.90921594e-309 2.79649662e-136\n",
      " 4.07010094e-246 1.23548538e-102 1.67718670e-181 5.96475135e-205\n",
      " 1.96072129e-226 3.29203792e-177 2.09811131e-074 4.46609770e-055\n",
      " 3.27856825e-116 2.59084451e-065 1.59301719e-092 5.16840404e-091\n",
      " 5.33217262e-111 1.65953617e-103 3.01290577e-065 8.71877817e-053\n",
      " 1.05081063e-070 2.89419214e-058 7.59551137e-046 2.36637154e-038\n",
      " 3.50781900e-055 7.71275021e-296 1.86153377e-268 0.00000000e+000\n",
      " 4.90546999e-225 3.88627345e-136]\n"
     ]
    }
   ],
   "execution_count": 50
  },
  {
   "metadata": {},
   "cell_type": "markdown",
   "source": [
    "5. Lasso Regression (L1 Regularization):\n",
    "\n",
    "Aşşağıdaki kod Lasso regresyon modelini kullanarak özelliklerin katsayılarını hesaplar. Bu katsayılar, özelliklerin modeldeki önemini gösterir. Lasso regresyon, L1 düzenlemesi kullanır ve bu nedenle bazı katsayıları sıfıra indirir. Bu nedenle, sıfıra yakın katsayılar, modelde önemsiz özellikleri gösterir."
   ],
   "id": "4ff9efd03d2baa54"
  },
  {
   "metadata": {
    "ExecuteTime": {
     "end_time": "2025-01-28T13:24:38.592218Z",
     "start_time": "2025-01-28T13:24:38.578485Z"
    }
   },
   "cell_type": "code",
   "source": [
    "from sklearn.linear_model import Lasso\n",
    "lasso = Lasso(alpha=0.1)\n",
    "lasso.fit(X, y)\n",
    "print(lasso.coef_)"
   ],
   "id": "f34b64ac1558add5",
   "outputs": [
    {
     "name": "stdout",
     "output_type": "stream",
     "text": [
      "[ 0.00992637 -0.01032505 -0.06717694  0.13683032  0.02114392  0.04832228\n",
      "  0.09580689  0.01204268  0.07676391  0.16252686 -0.13699228  0.16452707\n",
      " -0.09084463 -0.         -0.         -0.         -0.         -0.\n",
      " -0.         -0.         -0.         -0.         -0.         -0.\n",
      " -0.         -0.00167334 -0.00202695 -0.          0.00976615 -0.        ]\n"
     ]
    },
    {
     "name": "stderr",
     "output_type": "stream",
     "text": [
      "/home/eren/miniconda3/envs/feature_selection/lib/python3.12/site-packages/sklearn/linear_model/_coordinate_descent.py:695: ConvergenceWarning: Objective did not converge. You might want to increase the number of iterations, check the scale of the features or consider increasing regularisation. Duality gap: 1.335e+00, tolerance: 1.164e+00\n",
      "  model = cd_fast.enet_coordinate_descent(\n"
     ]
    }
   ],
   "execution_count": 51
  },
  {
   "metadata": {},
   "cell_type": "markdown",
   "source": [
    "# Feature selection ların birleştirilmesi\n",
    "\n",
    "1. Sonuçların normalize edilmesi"
   ],
   "id": "beeb9e16b02cf60e"
  },
  {
   "metadata": {
    "ExecuteTime": {
     "end_time": "2025-01-28T13:24:38.666082Z",
     "start_time": "2025-01-28T13:24:38.653646Z"
    }
   },
   "cell_type": "code",
   "source": [
    "from sklearn.preprocessing import MinMaxScaler\n",
    "\n",
    "# --- 1. Correlation (Korelasyon Matrisinden Özellik Puanları) ---\n",
    "correlation_scores = correlation_matrix.abs().mean(axis=0).values  # Ortalama korelasyon\n",
    "\n",
    "# --- 2. Random Forest Feature Importance ---\n",
    "rf_scores = importance  # Random Forest'tan gelen önem değerleri\n",
    "\n",
    "# --- 3. PCA Explained Variance ---\n",
    "pca_scores = np.sum(np.abs(pca_components), axis=0)  # PCA bileşenlerinden katkı miktarları\n",
    "\n",
    "# --- 4. F-Score ---\n",
    "f_scores_normalized = f_scores / np.max(f_scores)  # F-skorlarını normalize et\n",
    "\n",
    "# --- 5. Lasso Coefficients ---\n",
    "lasso_scores = np.abs(lasso.coef_)  # Lasso katsayılarını mutlak değer olarak al\n",
    "\n",
    "# --- 6. Normalize Etme ---\n",
    "# Tüm sonuçları [0, 1] aralığına normalize etmek için Min-Max Skaleri kullanıyoruz\n",
    "scaler = MinMaxScaler()\n",
    "\n",
    "correlation_scores = scaler.fit_transform(correlation_scores.reshape(-1, 1)).flatten()\n",
    "rf_scores = scaler.fit_transform(rf_scores.reshape(-1, 1)).flatten()\n",
    "pca_scores = scaler.fit_transform(pca_scores.reshape(-1, 1)).flatten()\n",
    "f_scores_normalized = scaler.fit_transform(f_scores_normalized.reshape(-1, 1)).flatten()\n",
    "lasso_scores = scaler.fit_transform(lasso_scores.reshape(-1, 1)).flatten()\n",
    "\n",
    "print(f\"type:{type(correlation_scores)} value{correlation_scores}\")\n",
    "print(f\"type:{type(rf_scores)} value{rf_scores}\")\n",
    "print(f\"type:{type(pca_scores)} value{pca_scores}\")\n",
    "print(f\"type:{type(f_scores_normalized)} value{f_scores_normalized}\")\n",
    "print(f\"type:{type(lasso_scores)} value{lasso_scores}\")"
   ],
   "id": "ac9e7d7626d3c2e9",
   "outputs": [
    {
     "name": "stdout",
     "output_type": "stream",
     "text": [
      "type:<class 'numpy.ndarray'> value[0.49649152 0.7137714  0.62651168 0.59409425 0.57810245 0.20218774\n",
      " 0.43920794 0.55460208 0.47463178 0.65802743 0.17048801 0.\n",
      " 0.0690314  0.3901423  0.33701236 0.43699137 0.75808799 0.70791934\n",
      " 0.51877724 0.34884559 0.40213119 0.29127037 0.31744874 0.32301304\n",
      " 0.37313714 0.99321977 0.99386221 1.         0.79148057 0.31665365]\n",
      "type:<class 'numpy.ndarray'> value[0.44055446 0.25786022 1.         0.14544299 0.59526963 0.23696231\n",
      " 0.69638972 0.58151412 0.74884169 0.35140952 0.13999834 0.04390823\n",
      " 0.42628857 0.06034882 0.05374121 0.05879927 0.08669398 0.02052725\n",
      " 0.0168865  0.         0.12584192 0.09173606 0.08231475 0.02456918\n",
      " 0.03570415 0.76754235 0.80011586 0.70754525 0.67669189 0.24990785]\n",
      "type:<class 'numpy.ndarray'> value[6.98128268e-01 3.23470861e-01 2.06795154e-01 2.97288478e-01\n",
      " 3.67166405e-01 2.31609108e-01 2.16167097e-01 2.30579628e-01\n",
      " 9.53658902e-02 1.13717094e-01 8.04110069e-02 2.25599774e-02\n",
      " 1.20724451e-01 1.20146134e-03 1.28878015e-03 1.02501108e-03\n",
      " 6.36077499e-04 3.72452585e-04 4.01173323e-04 6.24226836e-04\n",
      " 5.69880021e-04 5.12763358e-04 6.86279363e-04 9.37465332e-04\n",
      " 1.24896365e-03 1.00000000e+00 8.19854089e-01 0.00000000e+00\n",
      " 9.05949017e-01 1.36740871e-04]\n",
      "type:<class 'numpy.ndarray'> value[0.21098613 0.2508677  0.85257737 0.13462816 0.47500918 0.07670203\n",
      " 0.24073488 0.31242805 0.39072922 0.22897604 0.03845314 0.01659717\n",
      " 0.0982736  0.02778124 0.06204403 0.05994943 0.08972426 0.07802034\n",
      " 0.02770691 0.01420697 0.03402237 0.01999108 0.00719868 0.\n",
      " 0.01670758 0.75598159 0.58782573 1.         0.38522215 0.13434868]\n",
      "type:<class 'numpy.ndarray'> value[0.06033277 0.06275595 0.40830324 0.83165839 0.12851332 0.29370413\n",
      " 0.58231687 0.07319572 0.46657316 0.98784267 0.83264284 1.\n",
      " 0.55215616 0.         0.         0.         0.         0.\n",
      " 0.         0.         0.         0.         0.         0.\n",
      " 0.         0.01017058 0.01231986 0.         0.05935892 0.        ]\n"
     ]
    }
   ],
   "execution_count": 52
  },
  {
   "metadata": {},
   "cell_type": "markdown",
   "source": "2. Sonuçların ağırlık optimizasyonu",
   "id": "433524acb4fc7882"
  },
  {
   "metadata": {
    "ExecuteTime": {
     "end_time": "2025-01-28T13:25:23.316479Z",
     "start_time": "2025-01-28T13:24:38.718210Z"
    }
   },
   "cell_type": "code",
   "source": [
    "from sklearn.model_selection import train_test_split\n",
    "from sklearn.metrics import accuracy_score\n",
    "from skopt import gp_minimize\n",
    "from skopt.space import Real\n",
    "\n",
    "# Veriyi Eğitim ve Validation Setlerine Ayırma\n",
    "X_train, X_val, y_train, y_val = train_test_split(X, y, test_size=0.2, random_state=42)\n",
    "\n",
    "# Feature Selection Sonuçları (Normalize Edilmiş)\n",
    "scores = {\n",
    "    \"correlation\": correlation_scores,\n",
    "    \"rf\": rf_scores,\n",
    "    \"pca\": pca_scores,\n",
    "    \"f_score\": f_scores_normalized,\n",
    "    \"lasso\": lasso_scores\n",
    "}\n",
    "\n",
    "# Objective Function: Ağırlıklara Göre Model Performansı\n",
    "def objective(weights):\n",
    "    weights = np.array(weights)\n",
    "    final_scores = sum(w * scores[method] for w, method in zip(weights, scores))\n",
    "\n",
    "    # Özellik Seçimi\n",
    "    threshold = 0.5\n",
    "    selected_features = np.where(final_scores > threshold)[0]\n",
    "\n",
    "    # Model Eğitimi\n",
    "    X_train_selected = X_train[:, selected_features]\n",
    "    X_val_selected = X_val[:, selected_features]\n",
    "\n",
    "    model = RandomForestClassifier(random_state=42)\n",
    "    model.fit(X_train_selected, y_train)\n",
    "    y_pred = model.predict(X_val_selected)\n",
    "\n",
    "    # Model Performansını Negatif Olarak Döndür (Minimize için)\n",
    "    return -accuracy_score(y_val, y_pred)\n",
    "\n",
    "# Ağırlıklar için Aralıklar (Hepsi [0, 1] arasında)\n",
    "space = [Real(0, 1) for _ in range(len(scores))]\n",
    "\n",
    "# Optimizasyon\n",
    "result = gp_minimize(objective, space, n_calls=50, random_state=42)\n",
    "\n",
    "best_weights = result.x\n",
    "best_score = -result.fun\n",
    "\n",
    "print(\"En İyi Ağırlıklar:\", best_weights)\n",
    "print(\"Validation Doğruluğu:\", best_score)\n",
    "\n"
   ],
   "id": "94f406f97e884cd0",
   "outputs": [
    {
     "name": "stdout",
     "output_type": "stream",
     "text": [
      "En İyi Ağırlıklar: [0.6183860093330874, 0.38246199126716285, 0.9832308858067884, 0.46676289324798004, 0.8599404067363208]\n",
      "Validation Doğruluğu: 0.9512195121951219\n"
     ]
    }
   ],
   "execution_count": 53
  },
  {
   "metadata": {},
   "cell_type": "markdown",
   "source": "3. Ağırlıklandırılmış birleştirme",
   "id": "de6d687fbd19122d"
  },
  {
   "metadata": {
    "ExecuteTime": {
     "end_time": "2025-01-28T13:25:23.430661Z",
     "start_time": "2025-01-28T13:25:23.424071Z"
    }
   },
   "cell_type": "code",
   "source": [
    "final_scores = []\n",
    "\n",
    "for i in range(len(columns)):\n",
    "    final_score = (\n",
    "        best_weights[0] * correlation_scores[i] +\n",
    "        best_weights[1] * rf_scores[i] +\n",
    "        best_weights[2] * pca_scores[i] +\n",
    "        best_weights[3] * f_scores_normalized[i] +\n",
    "        best_weights[4] * lasso_scores[i]\n",
    "    )\n",
    "    final_scores.append(final_score)\n",
    "\n",
    "results = []\n",
    "for i, column in enumerate(columns):\n",
    "    results.append({\n",
    "        \"column\": column,\n",
    "        \"final_score\": final_scores[i]\n",
    "    })\n",
    "\n",
    "results = sorted(results, key=lambda x: -x[\"final_score\"])\n",
    "for result in results:\n",
    "    print(result)"
   ],
   "id": "6f1729a7948630e9",
   "outputs": [
    {
     "name": "stdout",
     "output_type": "stream",
     "text": [
      "{'column': 'spectral_centroid', 'final_score': np.float64(2.252590121303653)}\n",
      "{'column': 'spectral_rolloff', 'final_score': np.float64(2.0116798343449593)}\n",
      "{'column': 'spectral_bandwidth', 'final_score': np.float64(1.8698590355495832)}\n",
      "{'column': 'mfcc3', 'final_score': np.float64(1.7222833668649011)}\n",
      "{'column': 'mfcc10', 'final_score': np.float64(1.6094892417195368)}\n",
      "{'column': 'mfcc4', 'final_score': np.float64(1.493325286012724)}\n",
      "{'column': 'mfcc7', 'final_score': np.float64(1.3636087240677672)}\n",
      "{'column': 'zero_crossing_rate', 'final_score': np.float64(1.3557580660976165)}\n",
      "{'column': 'mfcc1', 'final_score': np.float64(1.3123031111226386)}\n",
      "{'column': 'mfcc5', 'final_score': np.float64(1.2783982791505437)}\n",
      "{'column': 'mfcc9', 'final_score': np.float64(1.257278843661603)}\n",
      "{'column': 'mfcc2', 'final_score': np.float64(1.0291166292359755)}\n",
      "{'column': 'mfcc8', 'final_score': np.float64(1.000852003674119)}\n",
      "{'column': 'mfcc11', 'final_score': np.float64(0.9720057511903555)}\n",
      "{'column': 'mfcc12', 'final_score': np.float64(0.9066622469472387)}\n",
      "{'column': 'mfcc13', 'final_score': np.float64(0.8451191037547975)}\n",
      "{'column': 'mfcc6', 'final_score': np.float64(0.7317540849274109)}\n",
      "{'column': 'chroma4', 'final_score': np.float64(0.5444535265475645)}\n",
      "{'column': 'chroma5', 'final_score': np.float64(0.48240151552231325)}\n",
      "{'column': 'rms_energy', 'final_score': np.float64(0.35423786654890804)}\n",
      "{'column': 'chroma6', 'final_score': np.float64(0.34059003934673654)}\n",
      "{'column': 'chroma3', 'final_score': np.float64(0.3217078291342531)}\n",
      "{'column': 'chroma8', 'final_score': np.float64(0.3132427529912864)}\n",
      "{'column': 'chroma1', 'final_score': np.float64(0.2784882356407499)}\n",
      "{'column': 'chroma2', 'final_score': np.float64(0.25918471549115774)}\n",
      "{'column': 'chroma12', 'final_score': np.float64(0.25342476099406175)}\n",
      "{'column': 'chroma10', 'final_score': np.float64(0.23182297013206624)}\n",
      "{'column': 'chroma9', 'final_score': np.float64(0.22503833855095076)}\n",
      "{'column': 'chroma7', 'final_score': np.float64(0.22296627728127047)}\n",
      "{'column': 'chroma11', 'final_score': np.float64(0.2100652659464333)}\n"
     ]
    }
   ],
   "execution_count": 54
  }
 ],
 "metadata": {
  "kernelspec": {
   "display_name": "Python 3",
   "language": "python",
   "name": "python3"
  },
  "language_info": {
   "codemirror_mode": {
    "name": "ipython",
    "version": 2
   },
   "file_extension": ".py",
   "mimetype": "text/x-python",
   "name": "python",
   "nbconvert_exporter": "python",
   "pygments_lexer": "ipython2",
   "version": "2.7.6"
  }
 },
 "nbformat": 4,
 "nbformat_minor": 5
}
