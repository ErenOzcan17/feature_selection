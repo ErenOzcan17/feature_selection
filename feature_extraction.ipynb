{
 "cells": [
  {
   "metadata": {},
   "cell_type": "markdown",
   "source": [
    "### Bu dosyada bir ses dosyasından librosa kütüphanesi ile özellik çıkarımlarının(feature extraction) nasıl yapılacağı gösterilmektedir\n",
    "\n",
    "İlk olarak ses dosyasını belleğe alıyorum."
   ],
   "id": "780e4f0cad680a1f"
  },
  {
   "cell_type": "code",
   "id": "initial_id",
   "metadata": {
    "collapsed": true
   },
   "source": [
    "import librosa\n",
    "import numpy as np\n",
    "\n",
    "# Ses dosyasını yükle\n",
    "file_path = \"common_voice_tr_41239135.wav\"\n",
    "audio, sr = librosa.load(file_path, sr=None)"
   ],
   "outputs": [],
   "execution_count": null
  },
  {
   "metadata": {},
   "cell_type": "markdown",
   "source": [
    "Featureların ne olduğunun daha kolay anlaşılması için 3 adet mfcc değeri alıp bu değerleri yazdırıyorum.\n",
    "Sonraki aşamalarda bu değerleri fazlasıyla kullanacağım bu yüzden çıktıyı incelemenizi öneriyorum.\n",
    "\n",
    "\"mfcc.shape\" fonksiyonu aldığımız featureların 2 adet niteliğini verir. Çıktısı şu şekildedir: (coefficients, frames);\n",
    "\n",
    "1- Number of coefficients: Kaç adet mfcc değeri kullandığımızı ifade eder.\n",
    "\n",
    "2- Number of frames: Frame sayısını ifade eder.\n",
    "\n",
    "Frame: Ses sinyalleri sürekli bir veri akışı gibi olsa da, bilgisayarda işlenebilmesi için genellikle küçük zaman dilimlerine bölünür.\n",
    "Bu zaman dilimlerine frame denir."
   ],
   "id": "20f1520de6c52140"
  },
  {
   "metadata": {
    "ExecuteTime": {
     "end_time": "2025-01-25T22:34:14.664309Z",
     "start_time": "2025-01-25T22:34:05.799229Z"
    }
   },
   "cell_type": "code",
   "source": [
    "mfcc = librosa.feature.mfcc(y=audio, sr=sr, n_mfcc=3)\n",
    "np.set_printoptions(threshold=np.inf)\n",
    "print(mfcc.shape)\n",
    "print(\"\\ndizinin 0. elemanı\\n\")\n",
    "print(mfcc[0, :])\n",
    "print(\"\\ndizinin 1. elemanı\\n\")\n",
    "print(mfcc[1, :])\n",
    "print(\"\\ndizinin 2. elemanı\\n\")\n",
    "print(mfcc[2, :])"
   ],
   "id": "26d033e3f1c23eee",
   "outputs": [
    {
     "ename": "KeyboardInterrupt",
     "evalue": "",
     "output_type": "error",
     "traceback": [
      "\u001B[0;31m---------------------------------------------------------------------------\u001B[0m",
      "\u001B[0;31mKeyboardInterrupt\u001B[0m                         Traceback (most recent call last)",
      "Cell \u001B[0;32mIn[34], line 2\u001B[0m\n\u001B[1;32m      1\u001B[0m mfcc \u001B[38;5;241m=\u001B[39m librosa\u001B[38;5;241m.\u001B[39mfeature\u001B[38;5;241m.\u001B[39mmfcc(y\u001B[38;5;241m=\u001B[39maudio, sr\u001B[38;5;241m=\u001B[39msr, n_mfcc\u001B[38;5;241m=\u001B[39m\u001B[38;5;241m3\u001B[39m)\n\u001B[0;32m----> 2\u001B[0m np\u001B[38;5;241m.\u001B[39mset_printoptions(threshold\u001B[38;5;241m=\u001B[39mnp\u001B[38;5;241m.\u001B[39minf)\n\u001B[1;32m      3\u001B[0m \u001B[38;5;28mprint\u001B[39m(mfcc\u001B[38;5;241m.\u001B[39mshape)\n\u001B[1;32m      4\u001B[0m \u001B[38;5;28mprint\u001B[39m(\u001B[38;5;124m\"\u001B[39m\u001B[38;5;130;01m\\n\u001B[39;00m\u001B[38;5;124mdizinin 0. elemanı\u001B[39m\u001B[38;5;130;01m\\n\u001B[39;00m\u001B[38;5;124m\"\u001B[39m)\n",
      "File \u001B[0;32m/snap/pycharm-professional/443/plugins/python-ce/helpers/pydev/_pydevd_bundle/pydevd_frame.py:755\u001B[0m, in \u001B[0;36mPyDBFrame.trace_dispatch\u001B[0;34m(self, frame, event, arg)\u001B[0m\n\u001B[1;32m    753\u001B[0m \u001B[38;5;66;03m# if thread has a suspend flag, we suspend with a busy wait\u001B[39;00m\n\u001B[1;32m    754\u001B[0m \u001B[38;5;28;01mif\u001B[39;00m info\u001B[38;5;241m.\u001B[39mpydev_state \u001B[38;5;241m==\u001B[39m STATE_SUSPEND:\n\u001B[0;32m--> 755\u001B[0m     \u001B[38;5;28mself\u001B[39m\u001B[38;5;241m.\u001B[39mdo_wait_suspend(thread, frame, event, arg)\n\u001B[1;32m    756\u001B[0m     \u001B[38;5;66;03m# No need to reset frame.f_trace to keep the same trace function.\u001B[39;00m\n\u001B[1;32m    757\u001B[0m     \u001B[38;5;28;01mreturn\u001B[39;00m \u001B[38;5;28mself\u001B[39m\u001B[38;5;241m.\u001B[39mtrace_dispatch\n",
      "File \u001B[0;32m/snap/pycharm-professional/443/plugins/python-ce/helpers/pydev/_pydevd_bundle/pydevd_frame.py:412\u001B[0m, in \u001B[0;36mPyDBFrame.do_wait_suspend\u001B[0;34m(self, *args, **kwargs)\u001B[0m\n\u001B[1;32m    411\u001B[0m \u001B[38;5;28;01mdef\u001B[39;00m \u001B[38;5;21mdo_wait_suspend\u001B[39m(\u001B[38;5;28mself\u001B[39m, \u001B[38;5;241m*\u001B[39margs, \u001B[38;5;241m*\u001B[39m\u001B[38;5;241m*\u001B[39mkwargs):\n\u001B[0;32m--> 412\u001B[0m     \u001B[38;5;28mself\u001B[39m\u001B[38;5;241m.\u001B[39m_args[\u001B[38;5;241m0\u001B[39m]\u001B[38;5;241m.\u001B[39mdo_wait_suspend(\u001B[38;5;241m*\u001B[39margs, \u001B[38;5;241m*\u001B[39m\u001B[38;5;241m*\u001B[39mkwargs)\n",
      "File \u001B[0;32m/snap/pycharm-professional/443/plugins/python-ce/helpers/pydev/pydevd.py:1220\u001B[0m, in \u001B[0;36mPyDB.do_wait_suspend\u001B[0;34m(self, thread, frame, event, arg, send_suspend_message, is_unhandled_exception)\u001B[0m\n\u001B[1;32m   1217\u001B[0m         from_this_thread\u001B[38;5;241m.\u001B[39mappend(frame_id)\n\u001B[1;32m   1219\u001B[0m \u001B[38;5;28;01mwith\u001B[39;00m \u001B[38;5;28mself\u001B[39m\u001B[38;5;241m.\u001B[39m_threads_suspended_single_notification\u001B[38;5;241m.\u001B[39mnotify_thread_suspended(thread_id, stop_reason):\n\u001B[0;32m-> 1220\u001B[0m     \u001B[38;5;28mself\u001B[39m\u001B[38;5;241m.\u001B[39m_do_wait_suspend(thread, frame, event, arg, suspend_type, from_this_thread)\n",
      "File \u001B[0;32m/snap/pycharm-professional/443/plugins/python-ce/helpers/pydev/pydevd.py:1235\u001B[0m, in \u001B[0;36mPyDB._do_wait_suspend\u001B[0;34m(self, thread, frame, event, arg, suspend_type, from_this_thread)\u001B[0m\n\u001B[1;32m   1232\u001B[0m             \u001B[38;5;28mself\u001B[39m\u001B[38;5;241m.\u001B[39m_call_mpl_hook()\n\u001B[1;32m   1234\u001B[0m         \u001B[38;5;28mself\u001B[39m\u001B[38;5;241m.\u001B[39mprocess_internal_commands()\n\u001B[0;32m-> 1235\u001B[0m         time\u001B[38;5;241m.\u001B[39msleep(\u001B[38;5;241m0.01\u001B[39m)\n\u001B[1;32m   1237\u001B[0m \u001B[38;5;28mself\u001B[39m\u001B[38;5;241m.\u001B[39mcancel_async_evaluation(get_current_thread_id(thread), \u001B[38;5;28mstr\u001B[39m(\u001B[38;5;28mid\u001B[39m(frame)))\n\u001B[1;32m   1239\u001B[0m \u001B[38;5;66;03m# process any stepping instructions\u001B[39;00m\n",
      "\u001B[0;31mKeyboardInterrupt\u001B[0m: "
     ]
    }
   ],
   "execution_count": 34
  },
  {
   "metadata": {},
   "cell_type": "markdown",
   "source": "Burada bir çok farklı feature çıkarıp yazdırıyorum.",
   "id": "822102f9c5e7e54f"
  },
  {
   "metadata": {
    "ExecuteTime": {
     "end_time": "2025-01-25T21:10:10.048956Z",
     "start_time": "2025-01-25T21:10:09.432163Z"
    }
   },
   "cell_type": "code",
   "source": [
    "# Özellikleri çıkartalım\n",
    "features = {}\n",
    "\n",
    "# 1. MFCC (Mel-Frequency Cepstral Coefficients)\n",
    "mfcc = librosa.feature.mfcc(y=audio, sr=sr, n_mfcc=13)\n",
    "features['MFCC'] = mfcc\n",
    "\n",
    "# 2. Chroma Features\n",
    "chroma = librosa.feature.chroma_stft(y=audio, sr=sr)\n",
    "features['Chroma'] = chroma\n",
    "\n",
    "# 3. Spectral Centroid\n",
    "spectral_centroid = librosa.feature.spectral_centroid(y=audio, sr=sr)\n",
    "features['Spectral Centroid'] = spectral_centroid\n",
    "\n",
    "# 4. Spectral Rolloff\n",
    "spectral_rolloff = librosa.feature.spectral_rolloff(y=audio, sr=sr)\n",
    "features['Spectral Rolloff'] = spectral_rolloff\n",
    "\n",
    "# 5. Zero-Crossing Rate\n",
    "zcr = librosa.feature.zero_crossing_rate(audio)\n",
    "features['Zero Crossing Rate'] = zcr\n",
    "\n",
    "# 6. Spectral Bandwidth\n",
    "spectral_bandwidth = librosa.feature.spectral_bandwidth(y=audio, sr=sr)\n",
    "features['Spectral Bandwidth'] = spectral_bandwidth\n",
    "\n",
    "# 7. Root Mean Square Energy (RMS)\n",
    "rms = librosa.feature.rms(y=audio)\n",
    "features['RMS Energy'] = rms\n",
    "\n",
    "# 8. Tempo (BPM)\n",
    "tempo, _ = librosa.beat.beat_track(y=audio, sr=sr)\n",
    "features['Tempo (BPM)'] = tempo\n",
    "\n",
    "\n",
    "for feature_name, feature_value in features.items():\n",
    "    if isinstance(feature_value, np.ndarray):\n",
    "        print(f\"{feature_name}: {feature_value.shape}\")\n",
    "    else:\n",
    "        print(f\"{feature_name}: {feature_value}\")"
   ],
   "id": "ddf46ad76d075cb2",
   "outputs": [
    {
     "name": "stdout",
     "output_type": "stream",
     "text": [
      "MFCC: (13, 2855)\n",
      "Chroma: (12, 2855)\n",
      "Spectral Centroid: (1, 2855)\n",
      "Spectral Rolloff: (1, 2855)\n",
      "Zero Crossing Rate: (1, 2855)\n",
      "Spectral Bandwidth: (1, 2855)\n",
      "RMS Energy: (1, 2855)\n",
      "Tempo (BPM): (1,)\n"
     ]
    }
   ],
   "execution_count": 33
  },
  {
   "metadata": {},
   "cell_type": "markdown",
   "source": [
    "Kalan kısımda veri setimdeki seslerin featurelarını çıkarıp \"pickle.dumps()\" fonksiyonu ile serialize edip \"BLOB\" formatında veri tabanına yazacağım.\n",
    "\n",
    "Oluşturduğum veri tabanını feature selection için \"feature_selection\" dosyasında kullanacağım."
   ],
   "id": "18a3e632528da9aa"
  }
 ],
 "metadata": {
  "kernelspec": {
   "display_name": "Python 3",
   "language": "python",
   "name": "python3"
  },
  "language_info": {
   "codemirror_mode": {
    "name": "ipython",
    "version": 2
   },
   "file_extension": ".py",
   "mimetype": "text/x-python",
   "name": "python",
   "nbconvert_exporter": "python",
   "pygments_lexer": "ipython2",
   "version": "2.7.6"
  }
 },
 "nbformat": 4,
 "nbformat_minor": 5
}
